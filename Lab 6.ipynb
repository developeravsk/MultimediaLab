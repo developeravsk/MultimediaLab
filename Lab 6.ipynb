{
 "cells": [
  {
   "cell_type": "markdown",
   "id": "5277ded8",
   "metadata": {},
   "source": [
    "### 6. Generate random numpy array of size (400,400) in range [0,256) and save it as image."
   ]
  },
  {
   "cell_type": "code",
   "execution_count": 1,
   "id": "c598be14",
   "metadata": {},
   "outputs": [],
   "source": [
    "import numpy as np\n",
    "from PIL import Image"
   ]
  },
  {
   "cell_type": "code",
   "execution_count": 2,
   "id": "ef93e588",
   "metadata": {},
   "outputs": [],
   "source": [
    "# generate random numpy array\n",
    "arr = np.random.randint(0, 256, size=(400, 400), dtype=np.uint8)"
   ]
  },
  {
   "cell_type": "code",
   "execution_count": 3,
   "id": "e915beb7",
   "metadata": {},
   "outputs": [],
   "source": [
    "# create image from numpy array\n",
    "img = Image.fromarray(arr)"
   ]
  },
  {
   "cell_type": "code",
   "execution_count": 4,
   "id": "7827b436",
   "metadata": {},
   "outputs": [],
   "source": [
    "# save image\n",
    "img.save('resources/random_array.png')"
   ]
  },
  {
   "cell_type": "code",
   "execution_count": null,
   "id": "7f9d488b",
   "metadata": {},
   "outputs": [],
   "source": []
  }
 ],
 "metadata": {
  "kernelspec": {
   "display_name": "Python 3 (ipykernel)",
   "language": "python",
   "name": "python3"
  },
  "language_info": {
   "codemirror_mode": {
    "name": "ipython",
    "version": 3
   },
   "file_extension": ".py",
   "mimetype": "text/x-python",
   "name": "python",
   "nbconvert_exporter": "python",
   "pygments_lexer": "ipython3",
   "version": "3.10.6"
  }
 },
 "nbformat": 4,
 "nbformat_minor": 5
}
