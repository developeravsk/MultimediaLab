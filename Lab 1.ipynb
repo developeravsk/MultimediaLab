{
 "cells": [
  {
   "cell_type": "markdown",
   "id": "11c256d3",
   "metadata": {},
   "source": [
    "#### 1) Write a program to read lenna.jpg. Convert it into png and tif. Display disk size of jpg, png, and tif. Display the actual size of jpg without using any library."
   ]
  },
  {
   "cell_type": "code",
   "execution_count": 1,
   "id": "317884b7",
   "metadata": {},
   "outputs": [
    {
     "name": "stdout",
     "output_type": "stream",
     "text": [
      "Collecting pillow\n",
      "  Using cached Pillow-9.5.0-cp310-cp310-manylinux_2_28_x86_64.whl (3.4 MB)\n",
      "Installing collected packages: pillow\n",
      "\u001b[31mERROR: pip's dependency resolver does not currently take into account all the packages that are installed. This behaviour is the source of the following dependency conflicts.\n",
      "matplotlib 3.5.2 requires pyparsing>=2.2.1, which is not installed.\u001b[0m\u001b[31m\n",
      "\u001b[0mSuccessfully installed pillow-9.5.0\n"
     ]
    }
   ],
   "source": [
    "! pip install pillow"
   ]
  },
  {
   "cell_type": "code",
   "execution_count": 2,
   "id": "cf7f3421",
   "metadata": {},
   "outputs": [],
   "source": [
    "from PIL import Image\n",
    "import os"
   ]
  },
  {
   "cell_type": "code",
   "execution_count": 3,
   "id": "059ccd3e",
   "metadata": {},
   "outputs": [],
   "source": [
    "# read the input image\n",
    "img=Image.open(\"resources/lenna.jpg\")"
   ]
  },
  {
   "cell_type": "code",
   "execution_count": 7,
   "id": "cfce7650",
   "metadata": {},
   "outputs": [],
   "source": [
    "# convert to png and save\n",
    "img.save('resources/lenna.png','png')"
   ]
  },
  {
   "cell_type": "code",
   "execution_count": 8,
   "id": "0271a8c3",
   "metadata": {},
   "outputs": [],
   "source": [
    "# convert to tif and save\n",
    "img.save('resources/lenna.tiff','tiff')"
   ]
  },
  {
   "cell_type": "code",
   "execution_count": 10,
   "id": "7683535d",
   "metadata": {},
   "outputs": [
    {
     "name": "stdout",
     "output_type": "stream",
     "text": [
      "JPG Size: 473831 bytes\n",
      "PNG Size: 479778 bytes\n",
      "TIFF Size: 786572 bytes\n"
     ]
    }
   ],
   "source": [
    "# display file sizes\n",
    "print(\"JPG Size: {} bytes\".format(os.path.getsize(\"resources/lenna.jpg\")))\n",
    "print(\"PNG Size: {} bytes\".format(os.path.getsize(\"resources/lenna.png\")))\n",
    "print(\"TIFF Size: {} bytes\".format(os.path.getsize(\"resources/lenna.tiff\")))"
   ]
  },
  {
   "cell_type": "code",
   "execution_count": 12,
   "id": "943224f1",
   "metadata": {},
   "outputs": [
    {
     "name": "stdout",
     "output_type": "stream",
     "text": [
      "Actual JPG size:473831 bytes\n"
     ]
    }
   ],
   "source": [
    "# display the actual size of jpg without using any library\n",
    "with open('resources/lenna.jpg', 'rb') as f:\n",
    "    data=f.read()\n",
    "    jpg_actual_size=len(data)\n",
    "\n",
    "print(\"Actual JPG size:{} bytes\".format(jpg_actual_size))"
   ]
  },
  {
   "cell_type": "markdown",
   "id": "e6debad4",
   "metadata": {},
   "source": [
    "# Student assignment\n",
    "\n",
    "#### Create a function get_actual_size passing your filename and format as parameter to print the size of your image.\n",
    "\n",
    "###### Eg:\n",
    "\n",
    "`def get_actual_size(filepath, format):\n",
    "    # insert your logic here\"\n",
    "    print(......)`"
   ]
  }
 ],
 "metadata": {
  "kernelspec": {
   "display_name": "Python 3 (ipykernel)",
   "language": "python",
   "name": "python3"
  },
  "language_info": {
   "codemirror_mode": {
    "name": "ipython",
    "version": 3
   },
   "file_extension": ".py",
   "mimetype": "text/x-python",
   "name": "python",
   "nbconvert_exporter": "python",
   "pygments_lexer": "ipython3",
   "version": "3.10.6"
  }
 },
 "nbformat": 4,
 "nbformat_minor": 5
}
