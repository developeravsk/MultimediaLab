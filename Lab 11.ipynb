{
 "cells": [
  {
   "cell_type": "markdown",
   "id": "a646fc99",
   "metadata": {},
   "source": [
    "### 11. Let us consider a sine wave with frequency 4400hz, 400m amplitude and phase 0. Generate sample from this sine wave at the rate of 44100hz for 1sec. Save the samples in the form of wave file in python. Use wave library."
   ]
  },
  {
   "cell_type": "code",
   "execution_count": 5,
   "id": "987aa93d",
   "metadata": {},
   "outputs": [],
   "source": [
    "import numpy as np\n",
    "import wave\n",
    "\n",
    "# Set the parameters\n",
    "frequency = 4400  # Frequency of the sine wave in Hz\n",
    "amplitude = 400  # Amplitude of the sine wave\n",
    "phase = 0  # Phase of the sine wave\n",
    "sample_rate = 44100  # Sample rate in Hz\n",
    "duration = 1  # Duration of the wave in seconds\n",
    "\n",
    "# Generate the time array\n",
    "t = np.arange(0, duration, 1 / sample_rate)\n",
    "\n",
    "# Generate the samples for the sine wave\n",
    "samples = amplitude * np.sin(2 * np.pi * frequency * t + phase)\n",
    "\n",
    "# Normalize the samples to the range [-1, 1]\n",
    "samples = samples / np.max(np.abs(samples))\n",
    "\n",
    "# Create a new wave file\n",
    "output_file = wave.open('resources/sine_wave.wav', 'w')\n",
    "\n",
    "# Set the parameters for the wave file\n",
    "output_file.setnchannels(1)  # Mono channel\n",
    "output_file.setsampwidth(2)  # 16-bit audio\n",
    "output_file.setframerate(sample_rate)\n",
    "\n",
    "# Convert the samples to the appropriate format for writing to the wave file\n",
    "samples = (samples * 32767).astype(np.int16)\n",
    "\n",
    "# Write the samples to the wave file\n",
    "output_file.writeframes(samples.tobytes())\n",
    "\n",
    "# Close the wave file\n",
    "output_file.close()"
   ]
  },
  {
   "cell_type": "code",
   "execution_count": null,
   "id": "63dc4762",
   "metadata": {},
   "outputs": [],
   "source": []
  }
 ],
 "metadata": {
  "kernelspec": {
   "display_name": "Python 3 (ipykernel)",
   "language": "python",
   "name": "python3"
  },
  "language_info": {
   "codemirror_mode": {
    "name": "ipython",
    "version": 3
   },
   "file_extension": ".py",
   "mimetype": "text/x-python",
   "name": "python",
   "nbconvert_exporter": "python",
   "pygments_lexer": "ipython3",
   "version": "3.10.6"
  }
 },
 "nbformat": 4,
 "nbformat_minor": 5
}
