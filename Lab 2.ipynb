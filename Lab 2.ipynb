{
 "cells": [
  {
   "cell_type": "markdown",
   "id": "55f57626",
   "metadata": {},
   "source": [
    "#### 2. Write a program to read lenna.jpg and crop width from 100 to 600 and height from 100 to 600 and display the image. Use numpy library for cropping."
   ]
  },
  {
   "cell_type": "code",
   "execution_count": 1,
   "id": "6cfa653d",
   "metadata": {},
   "outputs": [
    {
     "name": "stdout",
     "output_type": "stream",
     "text": [
      "Requirement already satisfied: numpy in /home/sbweb/.local/lib/python3.10/site-packages (1.22.4)\r\n"
     ]
    }
   ],
   "source": [
    "! pip install numpy"
   ]
  },
  {
   "cell_type": "code",
   "execution_count": 3,
   "id": "0dc27176",
   "metadata": {},
   "outputs": [],
   "source": [
    "from PIL import Image\n",
    "import numpy as np"
   ]
  },
  {
   "cell_type": "code",
   "execution_count": 15,
   "id": "6395a5c1",
   "metadata": {},
   "outputs": [],
   "source": [
    "# read the input image\n",
    "img=Image.open('resources/lenna.jpg')\n",
    "img.show()"
   ]
  },
  {
   "cell_type": "code",
   "execution_count": 8,
   "id": "62f3d384",
   "metadata": {},
   "outputs": [],
   "source": [
    "# convert the image to NumPy array\n",
    "img_array=np.array(img)"
   ]
  },
  {
   "cell_type": "code",
   "execution_count": 9,
   "id": "5c349603",
   "metadata": {},
   "outputs": [
    {
     "data": {
      "text/plain": [
       "(512, 512, 3)"
      ]
     },
     "execution_count": 9,
     "metadata": {},
     "output_type": "execute_result"
    }
   ],
   "source": [
    "img_array.shape"
   ]
  },
  {
   "cell_type": "code",
   "execution_count": 12,
   "id": "c15950dc",
   "metadata": {},
   "outputs": [],
   "source": [
    "# crop the image to desired size\n",
    "cropped_array=img_array[100:600, 100:600]"
   ]
  },
  {
   "cell_type": "code",
   "execution_count": 16,
   "id": "8ada0168",
   "metadata": {},
   "outputs": [],
   "source": [
    "# convert cropped array back to an image\n",
    "cropped_img=Image.fromarray(cropped_array)\n",
    "cropped_img.show()"
   ]
  },
  {
   "cell_type": "code",
   "execution_count": null,
   "id": "94c2086e",
   "metadata": {},
   "outputs": [],
   "source": []
  }
 ],
 "metadata": {
  "kernelspec": {
   "display_name": "Python 3 (ipykernel)",
   "language": "python",
   "name": "python3"
  },
  "language_info": {
   "codemirror_mode": {
    "name": "ipython",
    "version": 3
   },
   "file_extension": ".py",
   "mimetype": "text/x-python",
   "name": "python",
   "nbconvert_exporter": "python",
   "pygments_lexer": "ipython3",
   "version": "3.10.6"
  }
 },
 "nbformat": 4,
 "nbformat_minor": 5
}
