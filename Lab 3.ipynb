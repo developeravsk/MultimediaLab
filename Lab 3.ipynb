{
 "cells": [
  {
   "cell_type": "markdown",
   "id": "38f3199e",
   "metadata": {},
   "source": [
    "#### 3. Write a program to convert lenna.jpg to gray and binary image. Do not use any library for conversion."
   ]
  },
  {
   "cell_type": "code",
   "execution_count": 1,
   "id": "3b37efd9",
   "metadata": {},
   "outputs": [],
   "source": [
    "from PIL import Image"
   ]
  },
  {
   "cell_type": "code",
   "execution_count": 2,
   "id": "aea113f4",
   "metadata": {},
   "outputs": [],
   "source": [
    "# read the input image\n",
    "img=Image.open('resources/lenna.jpg')"
   ]
  },
  {
   "cell_type": "code",
   "execution_count": 4,
   "id": "aa0890fd",
   "metadata": {},
   "outputs": [],
   "source": [
    "# convert the image to greyscale\n",
    "grayscale_img=Image.new('L', img.size)\n",
    "for x in range(img.width):\n",
    "    for y in range(img.height):\n",
    "        r,g,b=img.getpixel((x,y))\n",
    "        grayscale = int(0.299 * r + 0.587 * g + 0.114 * b)\n",
    "        grayscale_img.putpixel((x, y), grayscale)"
   ]
  },
  {
   "cell_type": "code",
   "execution_count": 7,
   "id": "ec578137",
   "metadata": {},
   "outputs": [],
   "source": [
    "# convert the grayscale image to binary\n",
    "threshold = 128\n",
    "binary_img = Image.new('1', img.size)\n",
    "for x in range(grayscale_img.width):\n",
    "    for y in range(grayscale_img.height):\n",
    "        intensity = grayscale_img.getpixel((x, y))\n",
    "        if intensity >= threshold:\n",
    "            binary_img.putpixel((x, y), 255)"
   ]
  },
  {
   "cell_type": "code",
   "execution_count": 8,
   "id": "d65ba98f",
   "metadata": {},
   "outputs": [],
   "source": [
    "# display the binary image\n",
    "binary_img.show()"
   ]
  },
  {
   "cell_type": "code",
   "execution_count": null,
   "id": "23b8cc74",
   "metadata": {},
   "outputs": [],
   "source": []
  }
 ],
 "metadata": {
  "kernelspec": {
   "display_name": "Python 3 (ipykernel)",
   "language": "python",
   "name": "python3"
  },
  "language_info": {
   "codemirror_mode": {
    "name": "ipython",
    "version": 3
   },
   "file_extension": ".py",
   "mimetype": "text/x-python",
   "name": "python",
   "nbconvert_exporter": "python",
   "pygments_lexer": "ipython3",
   "version": "3.10.6"
  }
 },
 "nbformat": 4,
 "nbformat_minor": 5
}
