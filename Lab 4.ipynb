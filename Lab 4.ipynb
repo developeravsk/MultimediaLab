{
 "cells": [
  {
   "cell_type": "markdown",
   "id": "ef9ed330",
   "metadata": {},
   "source": [
    "#### 4. Use simple dithering technique to convert lenna.jpg into binary image so that it looks gray image."
   ]
  },
  {
   "cell_type": "code",
   "execution_count": 1,
   "id": "d6f332d1",
   "metadata": {},
   "outputs": [],
   "source": [
    "from PIL import Image"
   ]
  },
  {
   "cell_type": "code",
   "execution_count": 2,
   "id": "a2d6e41d",
   "metadata": {},
   "outputs": [],
   "source": [
    "# read the input image\n",
    "img = Image.open('resources/lenna.jpg')"
   ]
  },
  {
   "cell_type": "code",
   "execution_count": 3,
   "id": "8a90d3a6",
   "metadata": {},
   "outputs": [],
   "source": [
    "# define the dither matrix\n",
    "dither_matrix = [[0, 128], [192, 64]] "
   ]
  },
  {
   "cell_type": "code",
   "execution_count": 4,
   "id": "b5f1c4d5",
   "metadata": {},
   "outputs": [],
   "source": [
    "# convert the image to binary using dithering\n",
    "binary_img = Image.new('1', img.size)\n",
    "for x in range(img.width):\n",
    "    for y in range(img.height):\n",
    "        intensity = sum(img.getpixel((x, y))) // 3\n",
    "        threshold = dither_matrix[x % 2][y % 2]\n",
    "        if intensity >= threshold:\n",
    "            binary_img.putpixel((x, y), 255)"
   ]
  },
  {
   "cell_type": "code",
   "execution_count": 5,
   "id": "09b02020",
   "metadata": {},
   "outputs": [],
   "source": [
    "binary_img.show()"
   ]
  }
 ],
 "metadata": {
  "kernelspec": {
   "display_name": "Python 3 (ipykernel)",
   "language": "python",
   "name": "python3"
  },
  "language_info": {
   "codemirror_mode": {
    "name": "ipython",
    "version": 3
   },
   "file_extension": ".py",
   "mimetype": "text/x-python",
   "name": "python",
   "nbconvert_exporter": "python",
   "pygments_lexer": "ipython3",
   "version": "3.10.6"
  }
 },
 "nbformat": 4,
 "nbformat_minor": 5
}
