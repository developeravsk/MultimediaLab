{
 "cells": [
  {
   "cell_type": "markdown",
   "id": "f91ccffa",
   "metadata": {},
   "source": [
    "### 10. Given the wave file, write python program to get different parameters of the wave file such as number of channels, sampling width (bit depth), sampling rate, number of samples. Use wave library."
   ]
  },
  {
   "cell_type": "code",
   "execution_count": 1,
   "id": "7a788a23",
   "metadata": {},
   "outputs": [],
   "source": [
    "import wave"
   ]
  },
  {
   "cell_type": "code",
   "execution_count": 2,
   "id": "b64a065b",
   "metadata": {},
   "outputs": [],
   "source": [
    "# open wave file for reading\n",
    "wav_file = wave.open(\"resources/example.wav\", \"r\")"
   ]
  },
  {
   "cell_type": "code",
   "execution_count": 3,
   "id": "237fe212",
   "metadata": {},
   "outputs": [],
   "source": [
    "# get parameters of wave file\n",
    "num_channels = wav_file.getnchannels()\n",
    "sample_width = wav_file.getsampwidth()\n",
    "sample_rate = wav_file.getframerate()\n",
    "num_samples = wav_file.getnframes()"
   ]
  },
  {
   "cell_type": "code",
   "execution_count": 4,
   "id": "da7dc281",
   "metadata": {},
   "outputs": [],
   "source": [
    "# close wave file\n",
    "wav_file.close()"
   ]
  },
  {
   "cell_type": "code",
   "execution_count": 5,
   "id": "51d5f46f",
   "metadata": {},
   "outputs": [
    {
     "name": "stdout",
     "output_type": "stream",
     "text": [
      "Number of channels:  2\n",
      "Sampling width (bit depth):  2\n",
      "Sampling rate:  8000\n",
      "Number of samples:  268237\n"
     ]
    }
   ],
   "source": [
    "# print parameters\n",
    "print(\"Number of channels: \", num_channels)\n",
    "print(\"Sampling width (bit depth): \", sample_width)\n",
    "print(\"Sampling rate: \", sample_rate)\n",
    "print(\"Number of samples: \", num_samples)"
   ]
  },
  {
   "cell_type": "code",
   "execution_count": null,
   "id": "8622dff7",
   "metadata": {},
   "outputs": [],
   "source": []
  }
 ],
 "metadata": {
  "kernelspec": {
   "display_name": "Python 3 (ipykernel)",
   "language": "python",
   "name": "python3"
  },
  "language_info": {
   "codemirror_mode": {
    "name": "ipython",
    "version": 3
   },
   "file_extension": ".py",
   "mimetype": "text/x-python",
   "name": "python",
   "nbconvert_exporter": "python",
   "pygments_lexer": "ipython3",
   "version": "3.10.6"
  }
 },
 "nbformat": 4,
 "nbformat_minor": 5
}
