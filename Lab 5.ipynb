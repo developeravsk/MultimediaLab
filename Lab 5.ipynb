{
 "cells": [
  {
   "cell_type": "markdown",
   "id": "487437c5",
   "metadata": {},
   "source": [
    "### 5. Plot the histogram of lenna.jpg. You can use matplotlib library."
   ]
  },
  {
   "cell_type": "code",
   "execution_count": 1,
   "id": "ee7b68e7",
   "metadata": {},
   "outputs": [],
   "source": [
    "import matplotlib.pyplot as plt\n",
    "from PIL import Image"
   ]
  },
  {
   "cell_type": "code",
   "execution_count": 2,
   "id": "78f25c39",
   "metadata": {},
   "outputs": [],
   "source": [
    "# read the input image\n",
    "img = Image.open('resources/lenna.jpg')"
   ]
  },
  {
   "cell_type": "code",
   "execution_count": 9,
   "id": "81993904",
   "metadata": {},
   "outputs": [],
   "source": [
    "def getRed(R): return '#%02x%02x%02x'%(R,0,0)\n",
    "def getGreen(G): return '#%02x%02x%02x'%(0,G,0)\n",
    "def getBlue(B):return '#%02x%02x%02x'%(0,0,B)"
   ]
  },
  {
   "cell_type": "code",
   "execution_count": 10,
   "id": "6b5ef972",
   "metadata": {},
   "outputs": [
    {
     "data": {
      "image/png": "[encoded data removed]",
      "text/plain": [
       "<Figure size 432x288 with 1 Axes>"
      ]
     },
     "metadata": {
      "needs_background": "light"
     },
     "output_type": "display_data"
    },
    {
     "data": {
      "image/png": "[encoded data removed]",
      "text/plain": [
       "<Figure size 432x288 with 1 Axes>"
      ]
     },
     "metadata": {
      "needs_background": "light"
     },
     "output_type": "display_data"
    },
    {
     "data": {
      "image/png": "[encoded data removed]",
      "text/plain": [
       "<Figure size 432x288 with 1 Axes>"
      ]
     },
     "metadata": {
      "needs_background": "light"
     },
     "output_type": "display_data"
    }
   ],
   "source": [
    "histogram=img.histogram()\n",
    "Red=histogram[0:256]      # indicates Red\n",
    "Green=histogram[256:512]  # indicated Green\n",
    "Blue=histogram[512:768]   # indicates Blue\n",
    "plt.figure(0)             # plots a figure to display RED Histogram\n",
    "for i in range(0, 256):\n",
    "    plt.bar(i, Red[i], color = getRed(i),alpha=0.3)\n",
    "plt.figure(1)             # plots a figure to display GREEN Histogram\n",
    "for i in range(0, 256):\n",
    "    plt.bar(i, Green[i], color = getGreen(i),alpha=0.3)\n",
    "plt.figure(2)             # plots a figure to display BLUE Histogram\n",
    "for i in range(0, 256):\n",
    "    plt.bar(i, Blue[i], color = getBlue(i),alpha=0.3)\n",
    "plt.show()"
   ]
  },
  {
   "cell_type": "code",
   "execution_count": null,
   "id": "bd8cdc2a",
   "metadata": {},
   "outputs": [],
   "source": []
  }
 ],
 "metadata": {
  "kernelspec": {
   "display_name": "Python 3 (ipykernel)",
   "language": "python",
   "name": "python3"
  },
  "language_info": {
   "codemirror_mode": {
    "name": "ipython",
    "version": 3
   },
   "file_extension": ".py",
   "mimetype": "text/x-python",
   "name": "python",
   "nbconvert_exporter": "python",
   "pygments_lexer": "ipython3",
   "version": "3.10.6"
  }
 },
 "nbformat": 4,
 "nbformat_minor": 5
}
